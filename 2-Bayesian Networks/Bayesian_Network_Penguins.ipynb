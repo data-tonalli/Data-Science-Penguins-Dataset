{
 "cells": [
  {
   "cell_type": "markdown",
   "id": "18f92ed3-f031-4ea2-9768-6b8905ab1511",
   "metadata": {},
   "source": [
    "## Installation\n",
    "```bash\n",
    "pip install git+https://github.com/pgmpy/pgmpy.git@dev\n",
    "```"
   ]
  },
  {
   "cell_type": "code",
   "execution_count": 1,
   "id": "7219cdd6-1584-437d-8369-45583aeee242",
   "metadata": {},
   "outputs": [
    {
     "name": "stdout",
     "output_type": "stream",
     "text": [
      "(344, 7)\n"
     ]
    }
   ],
   "source": [
    "import seaborn as sns\n",
    "import pandas as pd\n",
    "import numpy as np\n",
    "import matplotlib.pyplot as plt\n",
    "# get data\n",
    "peng = sns.load_dataset('penguins', cache=True, data_home=None)\n",
    "print(peng.shape)\n",
    "\n",
    "# clean data to make continous variables categorical\n",
    "cont_cols = list( peng.select_dtypes('float64').columns )\n",
    "\n",
    "# number of levels\n",
    "levels = 2\n",
    "\n",
    "for col in cont_cols:\n",
    "    peng[col] = pd.cut(  peng[col], levels )\n",
    "    \n",
    "    \n",
    "# all to strings\n",
    "peng = peng.dropna().astype(str)\n",
    "    \n",
    "# rename cols\n",
    "peng = peng.rename( columns= dict( bill_length_mm = 'b_length'\n",
    "                           , bill_depth_mm ='bill_depth', flipper_length_mm ='f_length',  body_mass_g= 'bm'), inplace=False)\n",
    "\n",
    "# joint probs for only two variables\n",
    "def joint_probs(DF, index, cols ):\n",
    "    all_cols = index + cols\n",
    "    N = DF.shape[0]\n",
    "    \n",
    "    joint_counts = pd.pivot_table( DF[all_cols] , index = index , columns= cols , aggfunc= 'size' ).replace(np.nan,0)\n",
    "    \n",
    "    joint_prob = np.round( joint_counts / N, 3)\n",
    "    \n",
    "    return joint_prob\n",
    "\n",
    "def cond_prob_dist(joint_probs):\n",
    "    # P(A | B) = P( A and B ) / P(B)\n",
    "    ## https://en.wikipedia.org/wiki/Conditional_probability\n",
    "    \n",
    "    \"\"\"\n",
    "    calculates the conditions prob. distribution where:\n",
    "    joint_probs: is a joint prob distribution as pandas dataframe\n",
    "    A = {index   of joint_probs} = {a1, a2, .. an }\n",
    "    B = {columns of joint_probs} = {b1, b2, .. bn }\n",
    "    \n",
    "    \n",
    "    returns:\n",
    "    CPD = the conditional probability dist P(A|B) as a pandas dataframe\n",
    "    \"\"\"\n",
    "    \n",
    "    CPD = joint_probs.copy()\n",
    "\n",
    "    # column sum\n",
    "    col_totals = joint_probs.sum(axis=0)\n",
    "    \n",
    "    for col in col_totals.index:\n",
    "        CPD[col] =   CPD[col] / col_totals.loc[col]\n",
    "        \n",
    "    # rename columns\n",
    "    CPD.columns = [ f'b{i+1} = {x}' for i,x in enumerate(CPD.columns) ]\n",
    "    CPD.index   = [ f'a{i+1} = {x}' for i,x in enumerate(CPD.index) ]\n",
    "        \n",
    "    return CPD.round(3)\n",
    "\n",
    "def conditional_analysis(DF, As = ['bm'], B = 'sex'):\n",
    "    for a in As:\n",
    "        print(f'A = {a} , B = {B}','', sep='\\n')\n",
    "        # P(A)\n",
    "        print('1) Marginal Probs ','' , peng[a].value_counts(normalize=1).round(2).to_string(),'', sep='\\n')\n",
    "    \n",
    "        # P(A|B)\n",
    "        cpd = cond_prob_dist( joint_probs(peng,[a],[B]))\n",
    "        print('2) Conditional Prob. Dist \\n', f'P(A|B) for A = {a}', '', cpd,'',sep='\\n')\n",
    "\n",
    "    \n",
    "        # E[ A | B]\n",
    "        # expectation value\n",
    "        r, _ = cpd.shape\n",
    "        outcomes = np.arange(1,r+1)\n",
    "        print(f'3) Conditional Expectations: E[ {a}|{B} ] \\n',sep='\\n')\n",
    "        for q in cpd.columns:\n",
    "            print(f'E[ {a} | {q} = ', np.round(np.sum(cpd[q]*outcomes),2) )\n",
    "\n",
    "        print('---'*20, sep='\\n')\n",
    "\n"
   ]
  },
  {
   "cell_type": "code",
   "execution_count": 2,
   "id": "f4ef345c-dec7-4354-b778-dc1116728b41",
   "metadata": {},
   "outputs": [
    {
     "data": {
      "text/html": [
       "<div>\n",
       "<style scoped>\n",
       "    .dataframe tbody tr th:only-of-type {\n",
       "        vertical-align: middle;\n",
       "    }\n",
       "\n",
       "    .dataframe tbody tr th {\n",
       "        vertical-align: top;\n",
       "    }\n",
       "\n",
       "    .dataframe thead th {\n",
       "        text-align: right;\n",
       "    }\n",
       "</style>\n",
       "<table border=\"1\" class=\"dataframe\">\n",
       "  <thead>\n",
       "    <tr style=\"text-align: right;\">\n",
       "      <th></th>\n",
       "      <th>species</th>\n",
       "      <th>island</th>\n",
       "      <th>b_length</th>\n",
       "      <th>bill_depth</th>\n",
       "      <th>f_length</th>\n",
       "      <th>bm</th>\n",
       "      <th>sex</th>\n",
       "    </tr>\n",
       "  </thead>\n",
       "  <tbody>\n",
       "    <tr>\n",
       "      <th>0</th>\n",
       "      <td>Adelie</td>\n",
       "      <td>Torgersen</td>\n",
       "      <td>(32.072, 45.85]</td>\n",
       "      <td>(17.3, 21.5]</td>\n",
       "      <td>(171.941, 201.5]</td>\n",
       "      <td>(2696.4, 4500.0]</td>\n",
       "      <td>Male</td>\n",
       "    </tr>\n",
       "    <tr>\n",
       "      <th>1</th>\n",
       "      <td>Adelie</td>\n",
       "      <td>Torgersen</td>\n",
       "      <td>(32.072, 45.85]</td>\n",
       "      <td>(17.3, 21.5]</td>\n",
       "      <td>(171.941, 201.5]</td>\n",
       "      <td>(2696.4, 4500.0]</td>\n",
       "      <td>Female</td>\n",
       "    </tr>\n",
       "  </tbody>\n",
       "</table>\n",
       "</div>"
      ],
      "text/plain": [
       "  species     island         b_length    bill_depth          f_length  \\\n",
       "0  Adelie  Torgersen  (32.072, 45.85]  (17.3, 21.5]  (171.941, 201.5]   \n",
       "1  Adelie  Torgersen  (32.072, 45.85]  (17.3, 21.5]  (171.941, 201.5]   \n",
       "\n",
       "                 bm     sex  \n",
       "0  (2696.4, 4500.0]    Male  \n",
       "1  (2696.4, 4500.0]  Female  "
      ]
     },
     "execution_count": 2,
     "metadata": {},
     "output_type": "execute_result"
    }
   ],
   "source": [
    "peng.head(2)"
   ]
  },
  {
   "cell_type": "markdown",
   "id": "2b551bc7-acf2-4c09-a36b-b425201cedf3",
   "metadata": {},
   "source": [
    "## Allocate graphical model"
   ]
  },
  {
   "cell_type": "code",
   "execution_count": 3,
   "id": "b9584e8d-92a2-4d01-8bd5-c726e39bd7d4",
   "metadata": {},
   "outputs": [
    {
     "data": {
      "image/png": "[encoded data removed]",
      "text/plain": [
       "<Figure size 720x480 with 1 Axes>"
      ]
     },
     "metadata": {},
     "output_type": "display_data"
    }
   ],
   "source": [
    "from pgmpy.models import BayesianNetwork\n",
    "import networkx as nx\n",
    "\n",
    "G  = BayesianNetwork() # graph object\n",
    "G.add_nodes_from(list(peng.columns))\n",
    "p = nx.circular_layout(G)\n",
    "\n",
    "p['sex']    = [.15,2]\n",
    "p['species']= [.15,-1]\n",
    "p['island']= [.15,-2.5]\n",
    "\n",
    "\n",
    "p['f_length'] = [0,0]\n",
    "p['b_length'] = [.1,0]\n",
    "p['bill_depth'] = [.2,0 ]\n",
    "p['bm'] = [.3,0]\n",
    "\n",
    "\n",
    "def plot_dag(DAG,pos):\n",
    "    plt.figure(dpi=120)\n",
    "    nx.draw_networkx_labels(DAG,pos=pos)\n",
    "    nx.draw_networkx_nodes(DAG,pos=pos)\n",
    "    nx.draw_networkx_edges(DAG,pos=pos)\n",
    "    \n",
    "plot_dag(G,p)"
   ]
  },
  {
   "cell_type": "markdown",
   "id": "811e0138-cc95-4cd6-a837-fca83737f293",
   "metadata": {},
   "source": [
    "### A = Species B = Sex"
   ]
  },
  {
   "cell_type": "code",
   "execution_count": 4,
   "id": "bd3b69d9-5939-4dc1-8c7d-d11728723125",
   "metadata": {},
   "outputs": [
    {
     "name": "stdout",
     "output_type": "stream",
     "text": [
      "A = species , B = sex\n",
      "\n",
      "1) Marginal Probs \n",
      "\n",
      "Adelie       0.44\n",
      "Gentoo       0.36\n",
      "Chinstrap    0.20\n",
      "\n",
      "2) Conditional Prob. Dist \n",
      "\n",
      "P(A|B) for A = species\n",
      "\n",
      "                b1 = Female  b2 = Male\n",
      "a1 = Adelie           0.442      0.435\n",
      "a2 = Chinstrap        0.206      0.202\n",
      "a3 = Gentoo           0.352      0.363\n",
      "\n",
      "3) Conditional Expectations: E[ species|sex ] \n",
      "\n",
      "E[ species | b1 = Female =  1.91\n",
      "E[ species | b2 = Male =  1.93\n",
      "------------------------------------------------------------\n"
     ]
    }
   ],
   "source": [
    "conditional_analysis(peng, As=['species'], B='sex')"
   ]
  },
  {
   "cell_type": "markdown",
   "id": "e4fe9115-2d2c-4ae0-8ea4-440da32f719f",
   "metadata": {},
   "source": [
    "## A = ['island', 'b_length', 'bill_depth', 'f_length', 'bm']\n",
    "## B = sex"
   ]
  },
  {
   "cell_type": "code",
   "execution_count": 5,
   "id": "3f137863-9834-4e8d-b31a-6a871dd2c28f",
   "metadata": {},
   "outputs": [
    {
     "name": "stdout",
     "output_type": "stream",
     "text": [
      "A = island , B = sex\n",
      "\n",
      "1) Marginal Probs \n",
      "\n",
      "Biscoe       0.49\n",
      "Dream        0.37\n",
      "Torgersen    0.14\n",
      "\n",
      "2) Conditional Prob. Dist \n",
      "\n",
      "P(A|B) for A = island\n",
      "\n",
      "                b1 = Female  b2 = Male\n",
      "a1 = Biscoe           0.485      0.494\n",
      "a2 = Dream            0.370      0.369\n",
      "a3 = Torgersen        0.145      0.137\n",
      "\n",
      "3) Conditional Expectations: E[ island|sex ] \n",
      "\n",
      "E[ island | b1 = Female =  1.66\n",
      "E[ island | b2 = Male =  1.64\n",
      "------------------------------------------------------------\n"
     ]
    }
   ],
   "source": [
    "conditional_analysis(peng, As= ['island'], B='sex')"
   ]
  },
  {
   "cell_type": "code",
   "execution_count": 6,
   "id": "3d19bac4-2bec-4d25-9f05-69fcc884e4c2",
   "metadata": {},
   "outputs": [
    {
     "name": "stdout",
     "output_type": "stream",
     "text": [
      "A = b_length , B = sex\n",
      "\n",
      "1) Marginal Probs \n",
      "\n",
      "(32.072, 45.85]    0.59\n",
      "(45.85, 59.6]      0.41\n",
      "\n",
      "2) Conditional Prob. Dist \n",
      "\n",
      "P(A|B) for A = b_length\n",
      "\n",
      "                      b1 = Female  b2 = Male\n",
      "a1 = (32.072, 45.85]        0.721      0.458\n",
      "a2 = (45.85, 59.6]          0.279      0.542\n",
      "\n",
      "3) Conditional Expectations: E[ b_length|sex ] \n",
      "\n",
      "E[ b_length | b1 = Female =  1.28\n",
      "E[ b_length | b2 = Male =  1.54\n",
      "------------------------------------------------------------\n",
      "A = bill_depth , B = sex\n",
      "\n",
      "1) Marginal Probs \n",
      "\n",
      "(13.092, 17.3]    0.51\n",
      "(17.3, 21.5]      0.49\n",
      "\n",
      "2) Conditional Prob. Dist \n",
      "\n",
      "P(A|B) for A = bill_depth\n",
      "\n",
      "                     b1 = Female  b2 = Male\n",
      "a1 = (13.092, 17.3]        0.636      0.381\n",
      "a2 = (17.3, 21.5]          0.364      0.619\n",
      "\n",
      "3) Conditional Expectations: E[ bill_depth|sex ] \n",
      "\n",
      "E[ bill_depth | b1 = Female =  1.36\n",
      "E[ bill_depth | b2 = Male =  1.62\n",
      "------------------------------------------------------------\n",
      "A = f_length , B = sex\n",
      "\n",
      "1) Marginal Probs \n",
      "\n",
      "(171.941, 201.5]    0.59\n",
      "(201.5, 231.0]      0.41\n",
      "\n",
      "2) Conditional Prob. Dist \n",
      "\n",
      "P(A|B) for A = f_length\n",
      "\n",
      "                       b1 = Female  b2 = Male\n",
      "a1 = (171.941, 201.5]        0.636      0.536\n",
      "a2 = (201.5, 231.0]          0.364      0.464\n",
      "\n",
      "3) Conditional Expectations: E[ f_length|sex ] \n",
      "\n",
      "E[ f_length | b1 = Female =  1.36\n",
      "E[ f_length | b2 = Male =  1.46\n",
      "------------------------------------------------------------\n",
      "A = bm , B = sex\n",
      "\n",
      "1) Marginal Probs \n",
      "\n",
      "(2696.4, 4500.0]    0.66\n",
      "(4500.0, 6300.0]    0.34\n",
      "\n",
      "2) Conditional Prob. Dist \n",
      "\n",
      "P(A|B) for A = bm\n",
      "\n",
      "                       b1 = Female  b2 = Male\n",
      "a1 = (2696.4, 4500.0]        0.745      0.583\n",
      "a2 = (4500.0, 6300.0]        0.255      0.417\n",
      "\n",
      "3) Conditional Expectations: E[ bm|sex ] \n",
      "\n",
      "E[ bm | b1 = Female =  1.25\n",
      "E[ bm | b2 = Male =  1.42\n",
      "------------------------------------------------------------\n"
     ]
    }
   ],
   "source": [
    "conditional_analysis(peng, As= ['b_length','bill_depth','f_length','bm'], B='sex')"
   ]
  },
  {
   "cell_type": "code",
   "execution_count": 7,
   "id": "b0eea19d-994e-4a7d-8c67-3a1c472b34ef",
   "metadata": {},
   "outputs": [
    {
     "data": {
      "image/png": "[encoded data removed]",
      "text/plain": [
       "<Figure size 720x480 with 1 Axes>"
      ]
     },
     "metadata": {},
     "output_type": "display_data"
    }
   ],
   "source": [
    "# add edges\n",
    "G.add_edges_from(ebunch=[('sex',n) for n in ['b_length','bill_depth','f_length','bm'] ] )\n",
    "\n",
    "plot_dag(G,p)"
   ]
  },
  {
   "cell_type": "markdown",
   "id": "e293a71a-cba4-460c-a7ee-ef6da5956304",
   "metadata": {},
   "source": [
    "## A = species B = island"
   ]
  },
  {
   "cell_type": "code",
   "execution_count": 8,
   "id": "54648fa9-e666-4c6e-b5cb-671995a98c00",
   "metadata": {},
   "outputs": [
    {
     "name": "stdout",
     "output_type": "stream",
     "text": [
      "A = species , B = island\n",
      "\n",
      "1) Marginal Probs \n",
      "\n",
      "Adelie       0.44\n",
      "Gentoo       0.36\n",
      "Chinstrap    0.20\n",
      "\n",
      "2) Conditional Prob. Dist \n",
      "\n",
      "P(A|B) for A = species\n",
      "\n",
      "                b1 = Biscoe  b2 = Dream  b3 = Torgersen\n",
      "a1 = Adelie            0.27       0.447             1.0\n",
      "a2 = Chinstrap         0.00       0.553             0.0\n",
      "a3 = Gentoo            0.73       0.000             0.0\n",
      "\n",
      "3) Conditional Expectations: E[ species|island ] \n",
      "\n",
      "E[ species | b1 = Biscoe =  2.46\n",
      "E[ species | b2 = Dream =  1.55\n",
      "E[ species | b3 = Torgersen =  1.0\n",
      "------------------------------------------------------------\n"
     ]
    }
   ],
   "source": [
    "conditional_analysis(peng, As = ['species'], B = 'island')"
   ]
  },
  {
   "cell_type": "code",
   "execution_count": 9,
   "id": "09511c8a-1b35-4d9c-8dcc-638966f82129",
   "metadata": {},
   "outputs": [
    {
     "data": {
      "image/png": "[encoded data removed]",
      "text/plain": [
       "<Figure size 720x480 with 1 Axes>"
      ]
     },
     "metadata": {},
     "output_type": "display_data"
    }
   ],
   "source": [
    "G.add_edge('island','species')\n",
    "plot_dag(G,p)"
   ]
  },
  {
   "cell_type": "code",
   "execution_count": 10,
   "id": "759bb7d3-78f6-424a-b732-6e2d1346587a",
   "metadata": {},
   "outputs": [
    {
     "name": "stdout",
     "output_type": "stream",
     "text": [
      "A = sex , B = species\n",
      "\n",
      "1) Marginal Probs \n",
      "\n",
      "Male      0.5\n",
      "Female    0.5\n",
      "\n",
      "2) Conditional Prob. Dist \n",
      "\n",
      "P(A|B) for A = sex\n",
      "\n",
      "             b1 = Adelie  b2 = Chinstrap  b3 = Gentoo\n",
      "a1 = Female          0.5             0.5        0.487\n",
      "a2 = Male            0.5             0.5        0.513\n",
      "\n",
      "3) Conditional Expectations: E[ sex|species ] \n",
      "\n",
      "E[ sex | b1 = Adelie =  1.5\n",
      "E[ sex | b2 = Chinstrap =  1.5\n",
      "E[ sex | b3 = Gentoo =  1.51\n",
      "------------------------------------------------------------\n"
     ]
    }
   ],
   "source": [
    "conditional_analysis(peng, As = ['sex'], B = 'species')"
   ]
  },
  {
   "cell_type": "code",
   "execution_count": 11,
   "id": "e2f07124-827b-49f6-a5fa-c282c81f803b",
   "metadata": {},
   "outputs": [
    {
     "name": "stdout",
     "output_type": "stream",
     "text": [
      "A = b_length , B = species\n",
      "\n",
      "1) Marginal Probs \n",
      "\n",
      "(32.072, 45.85]    0.59\n",
      "(45.85, 59.6]      0.41\n",
      "\n",
      "2) Conditional Prob. Dist \n",
      "\n",
      "P(A|B) for A = b_length\n",
      "\n",
      "                      b1 = Adelie  b2 = Chinstrap  b3 = Gentoo\n",
      "a1 = (32.072, 45.85]        0.993           0.191        0.319\n",
      "a2 = (45.85, 59.6]          0.007           0.809        0.681\n",
      "\n",
      "3) Conditional Expectations: E[ b_length|species ] \n",
      "\n",
      "E[ b_length | b1 = Adelie =  1.01\n",
      "E[ b_length | b2 = Chinstrap =  1.81\n",
      "E[ b_length | b3 = Gentoo =  1.68\n",
      "------------------------------------------------------------\n",
      "A = bill_depth , B = species\n",
      "\n",
      "1) Marginal Probs \n",
      "\n",
      "(13.092, 17.3]    0.51\n",
      "(17.3, 21.5]      0.49\n",
      "\n",
      "2) Conditional Prob. Dist \n",
      "\n",
      "P(A|B) for A = bill_depth\n",
      "\n",
      "                     b1 = Adelie  b2 = Chinstrap  b3 = Gentoo\n",
      "a1 = (13.092, 17.3]        0.233           0.235          1.0\n",
      "a2 = (17.3, 21.5]          0.767           0.765          0.0\n",
      "\n",
      "3) Conditional Expectations: E[ bill_depth|species ] \n",
      "\n",
      "E[ bill_depth | b1 = Adelie =  1.77\n",
      "E[ bill_depth | b2 = Chinstrap =  1.76\n",
      "E[ bill_depth | b3 = Gentoo =  1.0\n",
      "------------------------------------------------------------\n",
      "A = f_length , B = species\n",
      "\n",
      "1) Marginal Probs \n",
      "\n",
      "(171.941, 201.5]    0.59\n",
      "(201.5, 231.0]      0.41\n",
      "\n",
      "2) Conditional Prob. Dist \n",
      "\n",
      "P(A|B) for A = f_length\n",
      "\n",
      "                       b1 = Adelie  b2 = Chinstrap  b3 = Gentoo\n",
      "a1 = (171.941, 201.5]        0.959           0.809          0.0\n",
      "a2 = (201.5, 231.0]          0.041           0.191          1.0\n",
      "\n",
      "3) Conditional Expectations: E[ f_length|species ] \n",
      "\n",
      "E[ f_length | b1 = Adelie =  1.04\n",
      "E[ f_length | b2 = Chinstrap =  1.19\n",
      "E[ f_length | b3 = Gentoo =  2.0\n",
      "------------------------------------------------------------\n",
      "A = bm , B = species\n",
      "\n",
      "1) Marginal Probs \n",
      "\n",
      "(2696.4, 4500.0]    0.66\n",
      "(4500.0, 6300.0]    0.34\n",
      "\n",
      "2) Conditional Prob. Dist \n",
      "\n",
      "P(A|B) for A = bm\n",
      "\n",
      "                       b1 = Adelie  b2 = Chinstrap  b3 = Gentoo\n",
      "a1 = (2696.4, 4500.0]        0.952           0.971        0.134\n",
      "a2 = (4500.0, 6300.0]        0.048           0.029        0.866\n",
      "\n",
      "3) Conditional Expectations: E[ bm|species ] \n",
      "\n",
      "E[ bm | b1 = Adelie =  1.05\n",
      "E[ bm | b2 = Chinstrap =  1.03\n",
      "E[ bm | b3 = Gentoo =  1.87\n",
      "------------------------------------------------------------\n"
     ]
    }
   ],
   "source": [
    "conditional_analysis(peng, As = ['b_length', 'bill_depth', 'f_length', 'bm'], B = 'species')"
   ]
  },
  {
   "cell_type": "code",
   "execution_count": 12,
   "id": "eb3247a7-76fa-4a94-8265-7b135953017b",
   "metadata": {},
   "outputs": [
    {
     "data": {
      "image/png": "[encoded data removed]",
      "text/plain": [
       "<Figure size 720x480 with 1 Axes>"
      ]
     },
     "metadata": {},
     "output_type": "display_data"
    }
   ],
   "source": [
    "G.add_edges_from( ebunch  =  [('species',x) for x in ['b_length', 'bill_depth', 'f_length', 'bm'] ])\n",
    "plot_dag(G,p)"
   ]
  },
  {
   "cell_type": "markdown",
   "id": "97cf9005-bda6-4f5d-b465-56e11adaeb86",
   "metadata": {},
   "source": [
    "## Estimate CPD and other properties"
   ]
  },
  {
   "cell_type": "code",
   "execution_count": 13,
   "id": "853a2dfc-fcc0-404a-b20c-3f3104c3e819",
   "metadata": {},
   "outputs": [
    {
     "name": "stdout",
     "output_type": "stream",
     "text": [
      "+-------------------+---------------+\n",
      "| island            |   phi(island) |\n",
      "+===================+===============+\n",
      "| island(Biscoe)    |        0.4895 |\n",
      "+-------------------+---------------+\n",
      "| island(Dream)     |        0.3694 |\n",
      "+-------------------+---------------+\n",
      "| island(Torgersen) |        0.1411 |\n",
      "+-------------------+---------------+\n"
     ]
    }
   ],
   "source": [
    "G.fit(peng)\n",
    "print(G.get_cpds(\"island\").to_factor())"
   ]
  },
  {
   "cell_type": "code",
   "execution_count": 14,
   "id": "25df7658-644e-4828-9614-ad2c0c2808d7",
   "metadata": {},
   "outputs": [
    {
     "name": "stdout",
     "output_type": "stream",
     "text": [
      "+--------------------+-------------------+-----------------------+\n",
      "| species            | island            |   phi(species,island) |\n",
      "+====================+===================+=======================+\n",
      "| species(Adelie)    | island(Biscoe)    |                0.2699 |\n",
      "+--------------------+-------------------+-----------------------+\n",
      "| species(Adelie)    | island(Dream)     |                0.4472 |\n",
      "+--------------------+-------------------+-----------------------+\n",
      "| species(Adelie)    | island(Torgersen) |                1.0000 |\n",
      "+--------------------+-------------------+-----------------------+\n",
      "| species(Chinstrap) | island(Biscoe)    |                0.0000 |\n",
      "+--------------------+-------------------+-----------------------+\n",
      "| species(Chinstrap) | island(Dream)     |                0.5528 |\n",
      "+--------------------+-------------------+-----------------------+\n",
      "| species(Chinstrap) | island(Torgersen) |                0.0000 |\n",
      "+--------------------+-------------------+-----------------------+\n",
      "| species(Gentoo)    | island(Biscoe)    |                0.7301 |\n",
      "+--------------------+-------------------+-----------------------+\n",
      "| species(Gentoo)    | island(Dream)     |                0.0000 |\n",
      "+--------------------+-------------------+-----------------------+\n",
      "| species(Gentoo)    | island(Torgersen) |                0.0000 |\n",
      "+--------------------+-------------------+-----------------------+\n"
     ]
    }
   ],
   "source": [
    "print(G.get_cpds(\"species\").to_factor())"
   ]
  },
  {
   "cell_type": "code",
   "execution_count": 15,
   "id": "6caa334e-b4e3-49f2-beff-01cdc77ac120",
   "metadata": {},
   "outputs": [
    {
     "name": "stdout",
     "output_type": "stream",
     "text": [
      "+----------------------+-------------+--------------------+-----------------------+\n",
      "| bm                   | sex         | species            |   phi(bm,sex,species) |\n",
      "+======================+=============+====================+=======================+\n",
      "| bm((2696.4, 4500.0]) | sex(Female) | species(Adelie)    |                1.0000 |\n",
      "+----------------------+-------------+--------------------+-----------------------+\n",
      "| bm((2696.4, 4500.0]) | sex(Female) | species(Chinstrap) |                1.0000 |\n",
      "+----------------------+-------------+--------------------+-----------------------+\n",
      "| bm((2696.4, 4500.0]) | sex(Female) | species(Gentoo)    |                0.2759 |\n",
      "+----------------------+-------------+--------------------+-----------------------+\n",
      "| bm((2696.4, 4500.0]) | sex(Male)   | species(Adelie)    |                0.9041 |\n",
      "+----------------------+-------------+--------------------+-----------------------+\n",
      "| bm((2696.4, 4500.0]) | sex(Male)   | species(Chinstrap) |                0.9412 |\n",
      "+----------------------+-------------+--------------------+-----------------------+\n",
      "| bm((2696.4, 4500.0]) | sex(Male)   | species(Gentoo)    |                0.0000 |\n",
      "+----------------------+-------------+--------------------+-----------------------+\n",
      "| bm((4500.0, 6300.0]) | sex(Female) | species(Adelie)    |                0.0000 |\n",
      "+----------------------+-------------+--------------------+-----------------------+\n",
      "| bm((4500.0, 6300.0]) | sex(Female) | species(Chinstrap) |                0.0000 |\n",
      "+----------------------+-------------+--------------------+-----------------------+\n",
      "| bm((4500.0, 6300.0]) | sex(Female) | species(Gentoo)    |                0.7241 |\n",
      "+----------------------+-------------+--------------------+-----------------------+\n",
      "| bm((4500.0, 6300.0]) | sex(Male)   | species(Adelie)    |                0.0959 |\n",
      "+----------------------+-------------+--------------------+-----------------------+\n",
      "| bm((4500.0, 6300.0]) | sex(Male)   | species(Chinstrap) |                0.0588 |\n",
      "+----------------------+-------------+--------------------+-----------------------+\n",
      "| bm((4500.0, 6300.0]) | sex(Male)   | species(Gentoo)    |                1.0000 |\n",
      "+----------------------+-------------+--------------------+-----------------------+\n"
     ]
    }
   ],
   "source": [
    "print(G.get_cpds(\"bm\").to_factor())"
   ]
  },
  {
   "cell_type": "markdown",
   "id": "ce649551-f2f2-485c-a9e2-0238bb424299",
   "metadata": {},
   "source": [
    "## Variable Elimination and Queries"
   ]
  },
  {
   "cell_type": "code",
   "execution_count": 16,
   "id": "bf25ab92-cf73-46c9-bad1-ddfe2fa0a0c8",
   "metadata": {},
   "outputs": [],
   "source": [
    "from pgmpy.utils import get_example_model\n",
    "\n",
    "# Initializing the VariableElimination class\n",
    "from pgmpy.inference import VariableElimination\n",
    "peng_infer = VariableElimination(G)"
   ]
  },
  {
   "cell_type": "code",
   "execution_count": 17,
   "id": "4f26e813-6c7f-401f-b66c-c6a38228414d",
   "metadata": {},
   "outputs": [
    {
     "name": "stdout",
     "output_type": "stream",
     "text": [
      "+--------------------+----------------+\n",
      "| species            |   phi(species) |\n",
      "+====================+================+\n",
      "| species(Adelie)    |         0.4384 |\n",
      "+--------------------+----------------+\n",
      "| species(Chinstrap) |         0.2042 |\n",
      "+--------------------+----------------+\n",
      "| species(Gentoo)    |         0.3574 |\n",
      "+--------------------+----------------+\n"
     ]
    }
   ],
   "source": [
    "print( peng_infer.query(variables=['species'], evidence= None, show_progress=False) )"
   ]
  },
  {
   "cell_type": "code",
   "execution_count": 18,
   "id": "6e318dda-bad0-44d4-8632-15bdd4bf6c99",
   "metadata": {},
   "outputs": [
    {
     "name": "stdout",
     "output_type": "stream",
     "text": [
      "sex = Female\n",
      "+--------------------+----------------+\n",
      "| species            |   phi(species) |\n",
      "+====================+================+\n",
      "| species(Adelie)    |         0.4384 |\n",
      "+--------------------+----------------+\n",
      "| species(Chinstrap) |         0.2042 |\n",
      "+--------------------+----------------+\n",
      "| species(Gentoo)    |         0.3574 |\n",
      "+--------------------+----------------+\n",
      "\n",
      "sex = Male\n",
      "+--------------------+----------------+\n",
      "| species            |   phi(species) |\n",
      "+====================+================+\n",
      "| species(Adelie)    |         0.4384 |\n",
      "+--------------------+----------------+\n",
      "| species(Chinstrap) |         0.2042 |\n",
      "+--------------------+----------------+\n",
      "| species(Gentoo)    |         0.3574 |\n",
      "+--------------------+----------------+\n",
      "\n"
     ]
    }
   ],
   "source": [
    "# Computing the probability of island given  sex = Female\n",
    "\n",
    "for sex in ['Female','Male']:\n",
    "    print(f'sex = {sex}')\n",
    "    q = peng_infer.query(variables=['species'], evidence=dict( sex = sex), show_progress=False)\n",
    "    print(q)\n",
    "    print()"
   ]
  },
  {
   "cell_type": "code",
   "execution_count": 19,
   "id": "2b32a9ee-a867-4ec5-bb9d-e6588a283052",
   "metadata": {},
   "outputs": [
    {
     "name": "stdout",
     "output_type": "stream",
     "text": [
      "sex = Female\n",
      "+--------------------+----------------+\n",
      "| species            |   phi(species) |\n",
      "+====================+================+\n",
      "| species(Adelie)    |         0.7000 |\n",
      "+--------------------+----------------+\n",
      "| species(Chinstrap) |         0.3000 |\n",
      "+--------------------+----------------+\n",
      "| species(Gentoo)    |         0.0000 |\n",
      "+--------------------+----------------+\n",
      "\n",
      "sex = Male\n",
      "+--------------------+----------------+\n",
      "| species            |   phi(species) |\n",
      "+====================+================+\n",
      "| species(Adelie)    |         0.6731 |\n",
      "+--------------------+----------------+\n",
      "| species(Chinstrap) |         0.3269 |\n",
      "+--------------------+----------------+\n",
      "| species(Gentoo)    |         0.0000 |\n",
      "+--------------------+----------------+\n",
      "\n"
     ]
    }
   ],
   "source": [
    "for sex in ['Female','Male']:\n",
    "    print(f'sex = {sex}')\n",
    "    q = peng_infer.query(variables=['species'], evidence=dict( sex = sex, bill_depth='(17.3, 21.5]'), show_progress=False)\n",
    "    print(q)\n",
    "    print()"
   ]
  },
  {
   "cell_type": "code",
   "execution_count": 20,
   "id": "12e5b031-0a44-4265-8242-d24f4494fb0c",
   "metadata": {},
   "outputs": [
    {
     "name": "stdout",
     "output_type": "stream",
     "text": [
      "\n",
      "f_length = (171.941, 201.5] | bm = (2696.4, 4500.0]\n",
      "+-------------------+---------------+\n",
      "| island            |   phi(island) |\n",
      "+===================+===============+\n",
      "| island(Biscoe)    |        0.2150 |\n",
      "+-------------------+---------------+\n",
      "| island(Dream)     |        0.5554 |\n",
      "+-------------------+---------------+\n",
      "| island(Torgersen) |        0.2296 |\n",
      "+-------------------+---------------+\n",
      "========================================\n",
      "\n",
      "f_length = (171.941, 201.5] | bm = (4500.0, 6300.0]\n",
      "+-------------------+---------------+\n",
      "| island            |   phi(island) |\n",
      "+===================+===============+\n",
      "| island(Biscoe)    |        0.2515 |\n",
      "+-------------------+---------------+\n",
      "| island(Dream)     |        0.4799 |\n",
      "+-------------------+---------------+\n",
      "| island(Torgersen) |        0.2686 |\n",
      "+-------------------+---------------+\n",
      "========================================\n",
      "\n",
      "f_length = (201.5, 231.0] | bm = (2696.4, 4500.0]\n",
      "+-------------------+---------------+\n",
      "| island            |   phi(island) |\n",
      "+===================+===============+\n",
      "| island(Biscoe)    |        0.5245 |\n",
      "+-------------------+---------------+\n",
      "| island(Dream)     |        0.4233 |\n",
      "+-------------------+---------------+\n",
      "| island(Torgersen) |        0.0523 |\n",
      "+-------------------+---------------+\n",
      "========================================\n",
      "\n",
      "f_length = (201.5, 231.0] | bm = (4500.0, 6300.0]\n",
      "+-------------------+---------------+\n",
      "| island            |   phi(island) |\n",
      "+===================+===============+\n",
      "| island(Biscoe)    |        0.9899 |\n",
      "+-------------------+---------------+\n",
      "| island(Dream)     |        0.0086 |\n",
      "+-------------------+---------------+\n",
      "| island(Torgersen) |        0.0015 |\n",
      "+-------------------+---------------+\n",
      "========================================\n"
     ]
    }
   ],
   "source": [
    "# Computing the probability of island given  sex = male\n",
    "for FL in peng['f_length'].unique():\n",
    "    for bm in peng['bm'].unique():\n",
    "        q = peng_infer.query(variables=['island'], evidence=dict( f_length = FL, bm=bm), show_progress=False, joint=True)\n",
    "        print()\n",
    "        print(f'f_length = {FL} | bm = {bm}')\n",
    "        print(q)\n",
    "        print('===='*10,sep='\\n'*2)"
   ]
  }
 ],
 "metadata": {
  "kernelspec": {
   "display_name": "Python Blog",
   "language": "python",
   "name": "blog"
  },
  "language_info": {
   "codemirror_mode": {
    "name": "ipython",
    "version": 3
   },
   "file_extension": ".py",
   "mimetype": "text/x-python",
   "name": "python",
   "nbconvert_exporter": "python",
   "pygments_lexer": "ipython3",
   "version": "3.9.0"
  }
 },
 "nbformat": 4,
 "nbformat_minor": 5
}
